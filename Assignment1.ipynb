{
 "cells": [
  {
   "cell_type": "code",
   "execution_count": 1,
   "metadata": {},
   "outputs": [],
   "source": [
    "# Importing the required packages \n",
    "import numpy as np \n",
    "import pandas as pd \n",
    "from sklearn.metrics import confusion_matrix \n",
    "from sklearn.model_selection import train_test_split\n",
    "from sklearn.tree import DecisionTreeClassifier \n",
    "from sklearn.metrics import accuracy_score \n",
    "from sklearn.metrics import classification_report "
   ]
  },
  {
   "cell_type": "code",
   "execution_count": 2,
   "metadata": {},
   "outputs": [],
   "source": [
    "def importdata(): \n",
    "    dftrain = pd.read_csv('C:/Users/tszch/Desktop/cs3481/vertebral_column_data/column_3C.dat', header= None, sep = ' ')\n",
    "    #dataframe.iloc[row index, column index]:\n",
    "    training_labels = dftrain.iloc  [:,-1]\n",
    "\n",
    "\n",
    "    # Printing the dataswet shape \n",
    "    print (\"Dataset Length: \", len(dftrain)) \n",
    "    print (\"Dataset Shape: \", dftrain.shape) \n",
    "\n",
    "    # Printing the dataset obseravtions \n",
    "    print (\"Dataset: \",dftrain.head()) \n",
    "    return dftrain"
   ]
  },
  {
   "cell_type": "code",
   "execution_count": 3,
   "metadata": {},
   "outputs": [
    {
     "name": "stdout",
     "output_type": "stream",
     "text": [
      "['DH' 'DH' 'DH' 'DH' 'DH' 'DH' 'DH' 'DH' 'DH' 'DH' 'DH' 'DH' 'DH' 'DH'\n",
      " 'DH' 'DH' 'DH' 'DH' 'DH' 'DH' 'DH' 'DH' 'DH' 'DH' 'DH' 'DH' 'DH' 'DH'\n",
      " 'DH' 'DH' 'DH' 'DH' 'DH' 'DH' 'DH' 'DH' 'DH' 'DH' 'DH' 'DH' 'DH' 'DH'\n",
      " 'DH' 'DH' 'DH' 'DH' 'DH' 'DH' 'DH' 'DH' 'DH' 'DH' 'DH' 'DH' 'DH' 'DH'\n",
      " 'DH' 'DH' 'DH' 'DH' 'SL' 'SL' 'SL' 'SL' 'SL' 'SL' 'SL' 'SL' 'SL' 'SL'\n",
      " 'SL' 'SL' 'SL' 'SL' 'SL' 'SL' 'SL' 'SL' 'SL' 'SL' 'SL' 'SL' 'SL' 'SL'\n",
      " 'SL' 'SL' 'SL' 'SL' 'SL' 'SL' 'SL' 'SL' 'SL' 'SL' 'SL' 'SL' 'SL' 'SL'\n",
      " 'SL' 'SL' 'SL' 'SL' 'SL' 'SL' 'SL' 'SL' 'SL' 'SL' 'SL' 'SL' 'SL' 'SL'\n",
      " 'SL' 'SL' 'SL' 'SL' 'SL' 'SL' 'SL' 'SL' 'SL' 'SL' 'SL' 'SL' 'SL' 'SL'\n",
      " 'SL' 'SL' 'SL' 'SL' 'SL' 'SL' 'SL' 'SL' 'SL' 'SL' 'SL' 'SL' 'SL' 'SL'\n",
      " 'SL' 'SL' 'SL' 'SL' 'SL' 'SL' 'SL' 'SL' 'SL' 'SL' 'SL' 'SL' 'SL' 'SL'\n",
      " 'SL' 'SL' 'SL' 'SL' 'SL' 'SL' 'SL' 'SL' 'SL' 'SL' 'SL' 'SL' 'SL' 'SL'\n",
      " 'SL' 'SL' 'SL' 'SL' 'SL' 'SL' 'SL' 'SL' 'SL' 'SL' 'SL' 'SL' 'SL' 'SL'\n",
      " 'SL' 'SL' 'SL' 'SL' 'SL' 'SL' 'SL' 'SL' 'SL' 'SL' 'SL' 'SL' 'SL' 'SL'\n",
      " 'SL' 'SL' 'SL' 'SL' 'SL' 'SL' 'SL' 'SL' 'SL' 'SL' 'SL' 'SL' 'SL' 'SL'\n",
      " 'NO' 'NO' 'NO' 'NO' 'NO' 'NO' 'NO' 'NO' 'NO' 'NO' 'NO' 'NO' 'NO' 'NO'\n",
      " 'NO' 'NO' 'NO' 'NO' 'NO' 'NO' 'NO' 'NO' 'NO' 'NO' 'NO' 'NO' 'NO' 'NO'\n",
      " 'NO' 'NO' 'NO' 'NO' 'NO' 'NO' 'NO' 'NO' 'NO' 'NO' 'NO' 'NO' 'NO' 'NO'\n",
      " 'NO' 'NO' 'NO' 'NO' 'NO' 'NO' 'NO' 'NO' 'NO' 'NO' 'NO' 'NO' 'NO' 'NO'\n",
      " 'NO' 'NO' 'NO' 'NO' 'NO' 'NO' 'NO' 'NO' 'NO' 'NO' 'NO' 'NO' 'NO' 'NO'\n",
      " 'NO' 'NO' 'NO' 'NO' 'NO' 'NO' 'NO' 'NO' 'NO' 'NO' 'NO' 'NO' 'NO' 'NO'\n",
      " 'NO' 'NO' 'NO' 'NO' 'NO' 'NO' 'NO' 'NO' 'NO' 'NO' 'NO' 'NO' 'NO' 'NO'\n",
      " 'NO' 'NO']\n"
     ]
    }
   ],
   "source": [
    "dftrain = pd.read_csv('C:/Users/tszch/Desktop/cs3481/vertebral_column_data/column_3C.dat', header= None, sep = ' ')\n",
    "X = dftrain.values[:, 0:6] \n",
    "Y = dftrain.values[:, 6] \n",
    "print(Y)"
   ]
  },
  {
   "cell_type": "code",
   "execution_count": 4,
   "metadata": {},
   "outputs": [],
   "source": [
    "# Function to split the dataset \n",
    "def splitdataset(dftrain): \n",
    "\n",
    "    # Separating the target variable \n",
    "    X = dftrain.values[:, 0:6] \n",
    "    Y = dftrain.values[:, 6]   \n",
    "\n",
    "    # Splitting the dataset into train and test \n",
    "    X_train, X_test, y_train, y_test = train_test_split(X, Y, test_size = 0.3, random_state = 100) \n",
    "    \n",
    "    return X, Y, X_train, X_test, y_train, y_test "
   ]
  },
  {
   "cell_type": "code",
   "execution_count": 5,
   "metadata": {},
   "outputs": [],
   "source": [
    "# Function to perform training with giniIndex. \n",
    "def train_using_gini(X_train, X_test, y_train): \n",
    "  \n",
    "    # Creating the classifier object \n",
    "    clf_gini = DecisionTreeClassifier(criterion = \"gini\", \n",
    "            random_state = 100,max_depth=5, min_samples_leaf=5) \n",
    "  \n",
    "    # Performing training \n",
    "    clf_gini.fit(X_train, y_train) \n",
    "    return clf_gini "
   ]
  },
  {
   "cell_type": "code",
   "execution_count": 6,
   "metadata": {},
   "outputs": [],
   "source": [
    "# Function to perform training with entropy. \n",
    "def tarin_using_entropy(X_train, X_test, y_train): \n",
    "  \n",
    "    # Decision tree with entropy \n",
    "    clf_entropy = DecisionTreeClassifier( \n",
    "            criterion = \"entropy\", random_state = 100, \n",
    "            max_depth = 5, min_samples_leaf = 5) \n",
    "  \n",
    "    # Performing training \n",
    "    clf_entropy.fit(X_train, y_train) \n",
    "    return clf_entropy "
   ]
  },
  {
   "cell_type": "code",
   "execution_count": 7,
   "metadata": {},
   "outputs": [],
   "source": [
    "# Function to make predictions \n",
    "def prediction(X_test, clf_object): \n",
    "  \n",
    "    # Predicton on test with giniIndex \n",
    "    y_pred = clf_object.predict(X_test) \n",
    "    print(\"Predicted values:\") \n",
    "    print(y_pred) \n",
    "    return y_pred "
   ]
  },
  {
   "cell_type": "code",
   "execution_count": 8,
   "metadata": {},
   "outputs": [],
   "source": [
    " # Function to calculate accuracy \n",
    "def cal_accuracy(y_test, y_pred): \n",
    "      \n",
    "    print(\"Confusion Matrix: \", \n",
    "        confusion_matrix(y_test, y_pred)) \n",
    "      \n",
    "    print (\"Accuracy : \", \n",
    "    accuracy_score(y_test,y_pred)*100) \n",
    "    target_names = ['DH','SL','NO']  \n",
    "    print(\"Report : \", \n",
    "    classification_report(y_test, y_pred, target_names=target_names)) "
   ]
  },
  {
   "cell_type": "code",
   "execution_count": 159,
   "metadata": {},
   "outputs": [
    {
     "name": "stdout",
     "output_type": "stream",
     "text": [
      "Dataset Length:  310\n",
      "Dataset Shape:  (310, 7)\n",
      "Dataset:         0      1      2      3       4      5   6\n",
      "0  63.03  22.55  39.61  40.48   98.67  -0.25  DH\n",
      "1  39.06  10.06  25.02  29.00  114.41   4.56  DH\n",
      "2  68.83  22.22  50.09  46.61  105.99  -3.53  DH\n",
      "3  69.30  24.65  44.31  44.64  101.87  11.21  DH\n",
      "4  49.71   9.65  28.32  40.06  108.17   7.92  DH\n",
      "Results Using Gini Index:\n",
      "Predicted values:\n",
      "['SL' 'NO' 'NO' 'DH' 'SL' 'SL' 'DH' 'SL' 'DH' 'SL' 'NO' 'DH' 'NO' 'SL'\n",
      " 'NO' 'DH' 'NO' 'DH' 'NO' 'SL' 'SL' 'NO' 'SL' 'SL' 'SL' 'SL' 'NO' 'NO'\n",
      " 'NO' 'DH' 'NO' 'NO' 'NO' 'DH' 'NO' 'NO' 'DH' 'SL' 'NO' 'NO' 'SL' 'SL'\n",
      " 'SL' 'SL' 'DH' 'SL' 'SL' 'NO' 'NO' 'SL' 'NO' 'NO' 'SL' 'NO' 'SL' 'SL'\n",
      " 'NO' 'SL' 'SL' 'NO' 'NO' 'SL' 'DH' 'DH' 'DH' 'SL' 'DH' 'SL' 'SL' 'SL'\n",
      " 'NO' 'SL' 'DH' 'NO' 'NO' 'SL' 'SL' 'SL' 'DH' 'DH' 'SL' 'DH' 'SL' 'DH'\n",
      " 'SL' 'SL' 'SL' 'DH' 'SL' 'NO' 'SL' 'DH' 'SL']\n",
      "Confusion Matrix:  [[11  5  0]\n",
      " [10 23  1]\n",
      " [ 0  2 41]]\n",
      "Accuracy :  80.64516129032258\n",
      "Report :                precision    recall  f1-score   support\n",
      "\n",
      "          DH       0.52      0.69      0.59        16\n",
      "          SL       0.77      0.68      0.72        34\n",
      "          NO       0.98      0.95      0.96        43\n",
      "\n",
      "    accuracy                           0.81        93\n",
      "   macro avg       0.76      0.77      0.76        93\n",
      "weighted avg       0.82      0.81      0.81        93\n",
      "\n",
      "[[[ 44.  66. 107.]]\n",
      "\n",
      " [[ 44.  64.   3.]]\n",
      "\n",
      " [[ 20.  56.   2.]]\n",
      "\n",
      " [[ 11.   5.   0.]]\n",
      "\n",
      " [[  6.   0.   0.]]\n",
      "\n",
      " [[  5.   5.   0.]]\n",
      "\n",
      " [[  1.   4.   0.]]\n",
      "\n",
      " [[  4.   1.   0.]]\n",
      "\n",
      " [[  9.  51.   2.]]\n",
      "\n",
      " [[  6.   5.   2.]]\n",
      "\n",
      " [[  5.   0.   0.]]\n",
      "\n",
      " [[  1.   5.   2.]]\n",
      "\n",
      " [[  3.  46.   0.]]\n",
      "\n",
      " [[  0.  40.   0.]]\n",
      "\n",
      " [[  3.   6.   0.]]\n",
      "\n",
      " [[ 24.   8.   1.]]\n",
      "\n",
      " [[ 22.   2.   0.]]\n",
      "\n",
      " [[  6.   2.   0.]]\n",
      "\n",
      " [[ 16.   0.   0.]]\n",
      "\n",
      " [[  2.   6.   1.]]\n",
      "\n",
      " [[  0.   2. 104.]]\n",
      "\n",
      " [[  0.   2.  10.]]\n",
      "\n",
      " [[  0.   0.   7.]]\n",
      "\n",
      " [[  0.   2.   3.]]\n",
      "\n",
      " [[  0.   0.  94.]]]\n",
      "Results Using Entropy:\n",
      "Predicted values:\n",
      "['SL' 'NO' 'NO' 'DH' 'SL' 'SL' 'NO' 'SL' 'DH' 'SL' 'NO' 'DH' 'NO' 'SL'\n",
      " 'NO' 'NO' 'NO' 'DH' 'NO' 'SL' 'SL' 'NO' 'SL' 'SL' 'SL' 'SL' 'NO' 'NO'\n",
      " 'NO' 'DH' 'NO' 'NO' 'NO' 'DH' 'NO' 'NO' 'NO' 'SL' 'NO' 'NO' 'SL' 'SL'\n",
      " 'SL' 'SL' 'DH' 'SL' 'SL' 'NO' 'NO' 'SL' 'NO' 'NO' 'SL' 'NO' 'SL' 'SL'\n",
      " 'NO' 'SL' 'SL' 'NO' 'NO' 'SL' 'NO' 'DH' 'DH' 'SL' 'DH' 'SL' 'SL' 'SL'\n",
      " 'NO' 'SL' 'NO' 'NO' 'NO' 'SL' 'SL' 'SL' 'NO' 'DH' 'SL' 'DH' 'SL' 'DH'\n",
      " 'SL' 'SL' 'SL' 'DH' 'SL' 'NO' 'SL' 'DH' 'SL']\n",
      "Confusion Matrix:  [[ 9  7  0]\n",
      " [ 6 27  1]\n",
      " [ 0  2 41]]\n",
      "Accuracy :  82.79569892473118\n",
      "Report :                precision    recall  f1-score   support\n",
      "\n",
      "          DH       0.60      0.56      0.58        16\n",
      "          SL       0.75      0.79      0.77        34\n",
      "          NO       0.98      0.95      0.96        43\n",
      "\n",
      "    accuracy                           0.83        93\n",
      "   macro avg       0.78      0.77      0.77        93\n",
      "weighted avg       0.83      0.83      0.83        93\n",
      "\n"
     ]
    }
   ],
   "source": [
    "# Driver code \n",
    "def main(): \n",
    "      \n",
    "    # Building Phase \n",
    "    data = importdata() \n",
    "    X, Y, X_train, X_test, y_train, y_test = splitdataset(data) \n",
    "    clf_gini = train_using_gini(X_train, X_test, y_train) \n",
    "    clf_entropy = tarin_using_entropy(X_train, X_test, y_train) \n",
    "      \n",
    "    # Operational Phase \n",
    "    print(\"Results Using Gini Index:\") \n",
    "      \n",
    "    # Prediction using gini \n",
    "    y_pred_gini = prediction(X_test, clf_gini) \n",
    "    cal_accuracy(y_test, y_pred_gini) \n",
    "    \n",
    "    print(clf_gini.tree_.value)\n",
    "      \n",
    "    print(\"Results Using Entropy:\") \n",
    "    # Prediction using entropy \n",
    "    y_pred_entropy = prediction(X_test, clf_entropy) \n",
    "    cal_accuracy(y_test, y_pred_entropy) \n",
    "     \n",
    "        \n",
    "        \n",
    "    import graphviz\n",
    "    from sklearn import tree\n",
    "    dot_data = tree.export_graphviz(clf_entropy, out_file=None, feature_names=['pelvic incidence', 'pelvic tilt', 'lumbar lordosis angle', 'sacral slope', 'pelvic radius', 'grade of spondylolisthesis'], class_names=['DH','SL','NO'], filled=True, rounded=True, special_characters=True)\n",
    "    graph = graphviz.Source(dot_data)\n",
    "    graph.render('Vertebral', view=True)\n",
    "  \n",
    "# Calling main function \n",
    "if __name__==\"__main__\": \n",
    "    main() "
   ]
  },
  {
   "cell_type": "code",
   "execution_count": 47,
   "metadata": {},
   "outputs": [
    {
     "name": "stdout",
     "output_type": "stream",
     "text": [
      "['setosa' 'versicolor' 'virginica']\n"
     ]
    }
   ],
   "source": [
    "from sklearn.datasets import load_iris\n",
    "iris = load_iris()\n",
    "print(iris.target_names)"
   ]
  },
  {
   "cell_type": "code",
   "execution_count": null,
   "metadata": {},
   "outputs": [],
   "source": [
    "import graphviz\n",
    "dot_data = tree.export_graphviz(clf_gini, out_file=None, feature_names=['pelvic incidence', 'pelvic tilt', 'lumbar lordosis angle', 'sacral slope', 'pelvic radius', 'grade of spondylolisthesis'], class_names=['Disk Hernia' 'Spondylolisthesis' 'Normal'], filled=True, rounded=True, special_characters=True)\n"
   ]
  },
  {
   "cell_type": "code",
   "execution_count": null,
   "metadata": {},
   "outputs": [],
   "source": [
    "graph = graphviz.Source(dot_data)"
   ]
  }
 ],
 "metadata": {
  "kernelspec": {
   "display_name": "Python 3",
   "language": "python",
   "name": "python3"
  },
  "language_info": {
   "codemirror_mode": {
    "name": "ipython",
    "version": 3
   },
   "file_extension": ".py",
   "mimetype": "text/x-python",
   "name": "python",
   "nbconvert_exporter": "python",
   "pygments_lexer": "ipython3",
   "version": "3.8.8"
  }
 },
 "nbformat": 4,
 "nbformat_minor": 4
}
